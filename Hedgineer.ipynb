{
  "nbformat": 4,
  "nbformat_minor": 0,
  "metadata": {
    "colab": {
      "provenance": []
    },
    "kernelspec": {
      "name": "python3",
      "display_name": "Python 3"
    },
    "language_info": {
      "name": "python"
    }
  },
  "cells": [
    {
      "cell_type": "markdown",
      "source": [
        "Getting Historical Stock Data for NYSE Equity"
      ],
      "metadata": {
        "id": "FJ8E7bVun9uS"
      }
    },
    {
      "cell_type": "code",
      "execution_count": 3,
      "metadata": {
        "id": "94r9Kd5yO_SP",
        "colab": {
          "base_uri": "https://localhost:8080/"
        },
        "outputId": "f1087303-2125-42e5-9d62-5b878bc1fc86"
      },
      "outputs": [
        {
          "output_type": "stream",
          "name": "stdout",
          "text": [
            "Fetched 7181 NYSE symbols.\n",
            "Data saved to nyse_historical_data.csv\n"
          ]
        }
      ],
      "source": [
        "import yfinance as yf\n",
        "import pandas as pd\n",
        "import requests\n",
        "from datetime import datetime, timedelta\n",
        "\n",
        "# Step 1: Get the list of NYSE stocks\n",
        "def get_nyse_symbols():\n",
        "    url = \"https://www.nasdaqtrader.com/dynamic/SymDir/nasdaqtraded.txt\"\n",
        "    response = requests.get(url)\n",
        "    data = response.text.split(\"\\n\")\n",
        "\n",
        "    symbols = []\n",
        "    for row in data[1:]:\n",
        "        cols = row.split(\"|\")\n",
        "        if len(cols) > 8 and cols[5] == \"N\":  # NYSE stocks are marked as \"N\"\n",
        "            symbols.append(cols[1])\n",
        "\n",
        "    return symbols[:-1]  # Exclude the last empty row\n",
        "\n",
        "# Step 2: Fetch historical stock data\n",
        "def fetch_stock_data(symbols, period=\"1mo\", interval=\"1d\"):\n",
        "    all_data = []\n",
        "\n",
        "    for symbol in symbols[:5]:  # Limit to 10 stocks for demonstration; remove [:10] for full list\n",
        "        try:\n",
        "            stock = yf.Ticker(symbol)\n",
        "            df = stock.history(period=period, interval=interval)\n",
        "            df[\"Symbol\"] = symbol\n",
        "            all_data.append(df)\n",
        "        except Exception as e:\n",
        "            print(f\"Failed to get data for {symbol}: {e}\")\n",
        "\n",
        "    return pd.concat(all_data) if all_data else pd.DataFrame()\n",
        "\n",
        "# Step 3: Save to CSV\n",
        "def main():\n",
        "    symbols = get_nyse_symbols()\n",
        "    print(f\"Fetched {len(symbols)} NYSE symbols.\")\n",
        "\n",
        "    stock_data = fetch_stock_data(symbols)\n",
        "    if not stock_data.empty:\n",
        "        stock_data.to_csv(\"nyse_historical_data.csv\")\n",
        "        print(\"Data saved to nyse_historical_data.csv\")\n",
        "    else:\n",
        "        print(\"No data retrieved.\")\n",
        "main()\n"
      ]
    },
    {
      "cell_type": "markdown",
      "source": [
        "Load dummy NYSE Historical Data"
      ],
      "metadata": {
        "id": "iYxiNmHiTQdI"
      }
    },
    {
      "cell_type": "code",
      "source": [
        "#loading historical NYSE Data\n",
        "df_nyse_history = pd.read_excel('NYSE_Historical_Data_500_Tickers.xlsx')"
      ],
      "metadata": {
        "id": "k_IUz3tNuzaM"
      },
      "execution_count": 6,
      "outputs": []
    },
    {
      "cell_type": "code",
      "source": [
        "df_nyse_history['Market Cap'] = df_nyse_history['Closing Price']*df_nyse_history['Outstanding Shares']\n",
        "df_nyse_history[\"Market Cap Rank\"] = df_nyse_history.groupby(\"Date\")[\"Market Cap\"].rank(method=\"dense\", ascending=False)\n",
        "df_nyse_history[df_nyse_history['Market Cap Rank'] == 1]"
      ],
      "metadata": {
        "id": "VpA6DriCvVA_"
      },
      "execution_count": null,
      "outputs": []
    },
    {
      "cell_type": "markdown",
      "source": [
        "Load Data to Duckdb"
      ],
      "metadata": {
        "id": "7iy8qFpkTbgB"
      }
    },
    {
      "cell_type": "code",
      "source": [
        "#duckdb\n",
        "import duckdb as duckdb\n",
        "# Load Excel file into a pandas DataFrame\n",
        "df_nyse_history = pd.read_excel(\"NYSE_Historical_Data_500_Tickers.xlsx\", engine=\"openpyxl\")\n",
        "df_nyse_history['Market Cap'] = df_nyse_history['Closing Price']*df_nyse_history['Outstanding Shares']\n",
        "df_nyse_history[\"Market Cap Rank\"] = df_nyse_history.groupby(\"Date\")[\"Market Cap\"].rank(method=\"dense\", ascending=False)\n",
        "\n",
        "# Connect to DuckDB (in-memory database or specify a file)\n",
        "con = duckdb.connect(database=\":memory:\")  # Use \":memory:\" for an in-memory DB, or \"your_db.duckdb\" for a file\n",
        "\n",
        "# Create table and insert data\n",
        "con.execute(\"CREATE TABLE nyse_historical_data AS SELECT * FROM df_nyse_history\")\n",
        "\n",
        "# Verify data is loaded\n",
        "print(con.execute(\"SELECT min(Date), max(Date) FROM nyse_historical_data LIMIT 5\").fetchdf())"
      ],
      "metadata": {
        "colab": {
          "base_uri": "https://localhost:8080/"
        },
        "id": "iksjL_5ExkKG",
        "outputId": "6963040f-99c7-4a33-823b-8267574def63"
      },
      "execution_count": 58,
      "outputs": [
        {
          "output_type": "stream",
          "name": "stdout",
          "text": [
            "Requirement already satisfied: duckdb in /usr/local/lib/python3.11/dist-packages (1.1.3)\n",
            "   min(Date)  max(Date)\n",
            "0 2025-01-16 2025-04-09\n"
          ]
        }
      ]
    },
    {
      "cell_type": "markdown",
      "source": [
        "**Getting top 100 stocks based on market cap for any given day**"
      ],
      "metadata": {
        "id": "F0hHK_QDTjLX"
      }
    },
    {
      "cell_type": "code",
      "source": [
        "\n",
        "#type cast Market Cap Rank to INT32\n",
        "con.execute(\"\"\"ALTER TABLE nyse_historical_data ALTER \"Market Cap Rank\" TYPE INT32\"\"\")\n",
        "\n",
        "#Get top 100 stocks for any input date\n",
        "date_ip = input(\"Enter Date\")\n",
        "print(con.execute(f\"\"\"select * from nyse_historical_data where \"Market Cap Rank\" <= 100\n",
        "                      and Date = '{date_ip}' \"\"\").fetchdf())"
      ],
      "metadata": {
        "id": "M24-ukITyd00"
      },
      "execution_count": null,
      "outputs": []
    },
    {
      "cell_type": "markdown",
      "source": [
        "**Build Daily Index for past one month**"
      ],
      "metadata": {
        "id": "xJp_vqtrTtKv"
      }
    },
    {
      "cell_type": "code",
      "source": [
        "#Build Daily Index for past one month\n",
        "base_value = 10\n",
        "base_market_cap = 1e+12 #1 Trillion USD\n",
        "\n",
        "daily_index_100_underlying_data = con.execute(f\"\"\"select *, sum(\"Market Cap\") over(partition by Date) as Daily_Market_Cap\n",
        "                      from nyse_historical_data where \"Market Cap Rank\" <= 100\n",
        "                      and Date >= date_add(current_date, INTERVAL '-1 month')\n",
        "                      and Date <= current_date\"\"\").fetchdf()\n",
        "\n",
        "daily_index = con.execute(f\"\"\"select Date, (sum(\"Market Cap\")/{base_market_cap})*{base_value} as market_index\n",
        "                         from nyse_historical_data where \"Market Cap Rank\" <= 100\n",
        "                      and Date >= date_add(current_date, INTERVAL '-1 month')\n",
        "                      and Date <= current_date\n",
        "                      group by 1\n",
        "                      order by Date desc\"\"\").fetchdf()"
      ],
      "metadata": {
        "id": "SzYjT9wB2d94"
      },
      "execution_count": 94,
      "outputs": []
    },
    {
      "cell_type": "markdown",
      "source": [
        "**Export daily index performance and composition Data**"
      ],
      "metadata": {
        "id": "GZoPN7pIT3PU"
      }
    },
    {
      "cell_type": "code",
      "source": [
        "#export daily index performance and composition Data\n",
        "daily_index.to_csv(\"Index_performance.csv\", float_format=\"%.2f\")\n",
        "\n",
        "daily_index_100_underlying_data[['Outstanding Shares','Market Cap']] = daily_index_100_underlying_data[['Outstanding Shares','Market Cap']]/1e9\n",
        "daily_index_100_underlying_data[['Daily_Market_Cap']] = daily_index_100_underlying_data[['Daily_Market_Cap']]/1e12\n",
        "daily_index_100_underlying_data[['Volume']] = daily_index_100_underlying_data[['Volume']]/1e6\n",
        "daily_index_100_underlying_data.rename(columns={'Outstanding Shares': 'Outstanding Shares (USD B)',\n",
        "                                                'Market Cap': 'Market Cap (USD B)',\n",
        "                                                'Daily_Market_Cap': 'Daily_Market_Cap (USD T)',\n",
        "                                                'Volume': 'Volumne (M)'}, inplace=True)\n",
        "daily_index_100_underlying_data.to_csv(\"Index_composition.csv\", float_format=\"%.2f\")"
      ],
      "metadata": {
        "id": "YCNK9ADg3Y-W"
      },
      "execution_count": 95,
      "outputs": []
    },
    {
      "cell_type": "markdown",
      "source": [
        "**Index Performance Graph**"
      ],
      "metadata": {
        "id": "AoibnT9_UC5b"
      }
    },
    {
      "cell_type": "code",
      "source": [
        "import plotly.express as px\n",
        "\n",
        "# Line Chart\n",
        "fig = px.line(daily_index, x=\"Date\", y=\"market_index\",\n",
        "              title=\"Market Index Over Time\",\n",
        "              labels={\"Date\": \"Date\", \"market_index\": \"Market Index\"},\n",
        "              line_shape=\"linear\")\n",
        "\n",
        "# Show interactive chart\n",
        "fig.show()"
      ],
      "metadata": {
        "colab": {
          "base_uri": "https://localhost:8080/",
          "height": 542
        },
        "id": "f8k_riY7JPrC",
        "outputId": "b56842ad-4c48-458a-e9be-5bb7bbafc8c1"
      },
      "execution_count": 96,
      "outputs": [
        {
          "output_type": "display_data",
          "data": {
            "text/html": [
              "<html>\n",
              "<head><meta charset=\"utf-8\" /></head>\n",
              "<body>\n",
              "    <div>            <script src=\"https://cdnjs.cloudflare.com/ajax/libs/mathjax/2.7.5/MathJax.js?config=TeX-AMS-MML_SVG\"></script><script type=\"text/javascript\">if (window.MathJax && window.MathJax.Hub && window.MathJax.Hub.Config) {window.MathJax.Hub.Config({SVG: {font: \"STIX-Web\"}});}</script>                <script type=\"text/javascript\">window.PlotlyConfig = {MathJaxConfig: 'local'};</script>\n",
              "        <script charset=\"utf-8\" src=\"https://cdn.plot.ly/plotly-2.35.2.min.js\"></script>                <div id=\"a82aedbc-2b4c-4d24-9b57-f9d9daedf9d3\" class=\"plotly-graph-div\" style=\"height:525px; width:100%;\"></div>            <script type=\"text/javascript\">                                    window.PLOTLYENV=window.PLOTLYENV || {};                                    if (document.getElementById(\"a82aedbc-2b4c-4d24-9b57-f9d9daedf9d3\")) {                    Plotly.newPlot(                        \"a82aedbc-2b4c-4d24-9b57-f9d9daedf9d3\",                        [{\"hovertemplate\":\"Date=%{x}\\u003cbr\\u003eMarket Index=%{y}\\u003cextra\\u003e\\u003c\\u002fextra\\u003e\",\"legendgroup\":\"\",\"line\":{\"color\":\"#636efa\",\"dash\":\"solid\",\"shape\":\"linear\"},\"marker\":{\"symbol\":\"circle\"},\"mode\":\"lines\",\"name\":\"\",\"orientation\":\"v\",\"showlegend\":false,\"x\":[\"2025-03-17T00:00:00\",\"2025-03-14T00:00:00\",\"2025-03-13T00:00:00\",\"2025-03-12T00:00:00\",\"2025-03-11T00:00:00\",\"2025-03-10T00:00:00\",\"2025-03-07T00:00:00\",\"2025-03-06T00:00:00\",\"2025-03-05T00:00:00\",\"2025-03-04T00:00:00\",\"2025-03-03T00:00:00\",\"2025-02-28T00:00:00\",\"2025-02-27T00:00:00\",\"2025-02-26T00:00:00\",\"2025-02-25T00:00:00\",\"2025-02-24T00:00:00\",\"2025-02-21T00:00:00\",\"2025-02-20T00:00:00\",\"2025-02-19T00:00:00\",\"2025-02-18T00:00:00\",\"2025-02-17T00:00:00\"],\"xaxis\":\"x\",\"y\":[6518.819069351403,6525.382474003926,6513.112149996351,6514.279880802483,6509.184958213498,6519.845275859144,6513.207918667533,6512.679750338247,6519.729968446853,6511.495348940648,6520.45850668051,6516.343168789039,6531.62193420395,6549.206423163378,6549.397315193861,6553.125662704462,6570.403592145113,6574.3942139314095,6577.6164018928575,6596.947826768441,6584.3699243978745],\"yaxis\":\"y\",\"type\":\"scatter\"}],                        {\"template\":{\"data\":{\"histogram2dcontour\":[{\"type\":\"histogram2dcontour\",\"colorbar\":{\"outlinewidth\":0,\"ticks\":\"\"},\"colorscale\":[[0.0,\"#0d0887\"],[0.1111111111111111,\"#46039f\"],[0.2222222222222222,\"#7201a8\"],[0.3333333333333333,\"#9c179e\"],[0.4444444444444444,\"#bd3786\"],[0.5555555555555556,\"#d8576b\"],[0.6666666666666666,\"#ed7953\"],[0.7777777777777778,\"#fb9f3a\"],[0.8888888888888888,\"#fdca26\"],[1.0,\"#f0f921\"]]}],\"choropleth\":[{\"type\":\"choropleth\",\"colorbar\":{\"outlinewidth\":0,\"ticks\":\"\"}}],\"histogram2d\":[{\"type\":\"histogram2d\",\"colorbar\":{\"outlinewidth\":0,\"ticks\":\"\"},\"colorscale\":[[0.0,\"#0d0887\"],[0.1111111111111111,\"#46039f\"],[0.2222222222222222,\"#7201a8\"],[0.3333333333333333,\"#9c179e\"],[0.4444444444444444,\"#bd3786\"],[0.5555555555555556,\"#d8576b\"],[0.6666666666666666,\"#ed7953\"],[0.7777777777777778,\"#fb9f3a\"],[0.8888888888888888,\"#fdca26\"],[1.0,\"#f0f921\"]]}],\"heatmap\":[{\"type\":\"heatmap\",\"colorbar\":{\"outlinewidth\":0,\"ticks\":\"\"},\"colorscale\":[[0.0,\"#0d0887\"],[0.1111111111111111,\"#46039f\"],[0.2222222222222222,\"#7201a8\"],[0.3333333333333333,\"#9c179e\"],[0.4444444444444444,\"#bd3786\"],[0.5555555555555556,\"#d8576b\"],[0.6666666666666666,\"#ed7953\"],[0.7777777777777778,\"#fb9f3a\"],[0.8888888888888888,\"#fdca26\"],[1.0,\"#f0f921\"]]}],\"heatmapgl\":[{\"type\":\"heatmapgl\",\"colorbar\":{\"outlinewidth\":0,\"ticks\":\"\"},\"colorscale\":[[0.0,\"#0d0887\"],[0.1111111111111111,\"#46039f\"],[0.2222222222222222,\"#7201a8\"],[0.3333333333333333,\"#9c179e\"],[0.4444444444444444,\"#bd3786\"],[0.5555555555555556,\"#d8576b\"],[0.6666666666666666,\"#ed7953\"],[0.7777777777777778,\"#fb9f3a\"],[0.8888888888888888,\"#fdca26\"],[1.0,\"#f0f921\"]]}],\"contourcarpet\":[{\"type\":\"contourcarpet\",\"colorbar\":{\"outlinewidth\":0,\"ticks\":\"\"}}],\"contour\":[{\"type\":\"contour\",\"colorbar\":{\"outlinewidth\":0,\"ticks\":\"\"},\"colorscale\":[[0.0,\"#0d0887\"],[0.1111111111111111,\"#46039f\"],[0.2222222222222222,\"#7201a8\"],[0.3333333333333333,\"#9c179e\"],[0.4444444444444444,\"#bd3786\"],[0.5555555555555556,\"#d8576b\"],[0.6666666666666666,\"#ed7953\"],[0.7777777777777778,\"#fb9f3a\"],[0.8888888888888888,\"#fdca26\"],[1.0,\"#f0f921\"]]}],\"surface\":[{\"type\":\"surface\",\"colorbar\":{\"outlinewidth\":0,\"ticks\":\"\"},\"colorscale\":[[0.0,\"#0d0887\"],[0.1111111111111111,\"#46039f\"],[0.2222222222222222,\"#7201a8\"],[0.3333333333333333,\"#9c179e\"],[0.4444444444444444,\"#bd3786\"],[0.5555555555555556,\"#d8576b\"],[0.6666666666666666,\"#ed7953\"],[0.7777777777777778,\"#fb9f3a\"],[0.8888888888888888,\"#fdca26\"],[1.0,\"#f0f921\"]]}],\"mesh3d\":[{\"type\":\"mesh3d\",\"colorbar\":{\"outlinewidth\":0,\"ticks\":\"\"}}],\"scatter\":[{\"fillpattern\":{\"fillmode\":\"overlay\",\"size\":10,\"solidity\":0.2},\"type\":\"scatter\"}],\"parcoords\":[{\"type\":\"parcoords\",\"line\":{\"colorbar\":{\"outlinewidth\":0,\"ticks\":\"\"}}}],\"scatterpolargl\":[{\"type\":\"scatterpolargl\",\"marker\":{\"colorbar\":{\"outlinewidth\":0,\"ticks\":\"\"}}}],\"bar\":[{\"error_x\":{\"color\":\"#2a3f5f\"},\"error_y\":{\"color\":\"#2a3f5f\"},\"marker\":{\"line\":{\"color\":\"#E5ECF6\",\"width\":0.5},\"pattern\":{\"fillmode\":\"overlay\",\"size\":10,\"solidity\":0.2}},\"type\":\"bar\"}],\"scattergeo\":[{\"type\":\"scattergeo\",\"marker\":{\"colorbar\":{\"outlinewidth\":0,\"ticks\":\"\"}}}],\"scatterpolar\":[{\"type\":\"scatterpolar\",\"marker\":{\"colorbar\":{\"outlinewidth\":0,\"ticks\":\"\"}}}],\"histogram\":[{\"marker\":{\"pattern\":{\"fillmode\":\"overlay\",\"size\":10,\"solidity\":0.2}},\"type\":\"histogram\"}],\"scattergl\":[{\"type\":\"scattergl\",\"marker\":{\"colorbar\":{\"outlinewidth\":0,\"ticks\":\"\"}}}],\"scatter3d\":[{\"type\":\"scatter3d\",\"line\":{\"colorbar\":{\"outlinewidth\":0,\"ticks\":\"\"}},\"marker\":{\"colorbar\":{\"outlinewidth\":0,\"ticks\":\"\"}}}],\"scattermapbox\":[{\"type\":\"scattermapbox\",\"marker\":{\"colorbar\":{\"outlinewidth\":0,\"ticks\":\"\"}}}],\"scatterternary\":[{\"type\":\"scatterternary\",\"marker\":{\"colorbar\":{\"outlinewidth\":0,\"ticks\":\"\"}}}],\"scattercarpet\":[{\"type\":\"scattercarpet\",\"marker\":{\"colorbar\":{\"outlinewidth\":0,\"ticks\":\"\"}}}],\"carpet\":[{\"aaxis\":{\"endlinecolor\":\"#2a3f5f\",\"gridcolor\":\"white\",\"linecolor\":\"white\",\"minorgridcolor\":\"white\",\"startlinecolor\":\"#2a3f5f\"},\"baxis\":{\"endlinecolor\":\"#2a3f5f\",\"gridcolor\":\"white\",\"linecolor\":\"white\",\"minorgridcolor\":\"white\",\"startlinecolor\":\"#2a3f5f\"},\"type\":\"carpet\"}],\"table\":[{\"cells\":{\"fill\":{\"color\":\"#EBF0F8\"},\"line\":{\"color\":\"white\"}},\"header\":{\"fill\":{\"color\":\"#C8D4E3\"},\"line\":{\"color\":\"white\"}},\"type\":\"table\"}],\"barpolar\":[{\"marker\":{\"line\":{\"color\":\"#E5ECF6\",\"width\":0.5},\"pattern\":{\"fillmode\":\"overlay\",\"size\":10,\"solidity\":0.2}},\"type\":\"barpolar\"}],\"pie\":[{\"automargin\":true,\"type\":\"pie\"}]},\"layout\":{\"autotypenumbers\":\"strict\",\"colorway\":[\"#636efa\",\"#EF553B\",\"#00cc96\",\"#ab63fa\",\"#FFA15A\",\"#19d3f3\",\"#FF6692\",\"#B6E880\",\"#FF97FF\",\"#FECB52\"],\"font\":{\"color\":\"#2a3f5f\"},\"hovermode\":\"closest\",\"hoverlabel\":{\"align\":\"left\"},\"paper_bgcolor\":\"white\",\"plot_bgcolor\":\"#E5ECF6\",\"polar\":{\"bgcolor\":\"#E5ECF6\",\"angularaxis\":{\"gridcolor\":\"white\",\"linecolor\":\"white\",\"ticks\":\"\"},\"radialaxis\":{\"gridcolor\":\"white\",\"linecolor\":\"white\",\"ticks\":\"\"}},\"ternary\":{\"bgcolor\":\"#E5ECF6\",\"aaxis\":{\"gridcolor\":\"white\",\"linecolor\":\"white\",\"ticks\":\"\"},\"baxis\":{\"gridcolor\":\"white\",\"linecolor\":\"white\",\"ticks\":\"\"},\"caxis\":{\"gridcolor\":\"white\",\"linecolor\":\"white\",\"ticks\":\"\"}},\"coloraxis\":{\"colorbar\":{\"outlinewidth\":0,\"ticks\":\"\"}},\"colorscale\":{\"sequential\":[[0.0,\"#0d0887\"],[0.1111111111111111,\"#46039f\"],[0.2222222222222222,\"#7201a8\"],[0.3333333333333333,\"#9c179e\"],[0.4444444444444444,\"#bd3786\"],[0.5555555555555556,\"#d8576b\"],[0.6666666666666666,\"#ed7953\"],[0.7777777777777778,\"#fb9f3a\"],[0.8888888888888888,\"#fdca26\"],[1.0,\"#f0f921\"]],\"sequentialminus\":[[0.0,\"#0d0887\"],[0.1111111111111111,\"#46039f\"],[0.2222222222222222,\"#7201a8\"],[0.3333333333333333,\"#9c179e\"],[0.4444444444444444,\"#bd3786\"],[0.5555555555555556,\"#d8576b\"],[0.6666666666666666,\"#ed7953\"],[0.7777777777777778,\"#fb9f3a\"],[0.8888888888888888,\"#fdca26\"],[1.0,\"#f0f921\"]],\"diverging\":[[0,\"#8e0152\"],[0.1,\"#c51b7d\"],[0.2,\"#de77ae\"],[0.3,\"#f1b6da\"],[0.4,\"#fde0ef\"],[0.5,\"#f7f7f7\"],[0.6,\"#e6f5d0\"],[0.7,\"#b8e186\"],[0.8,\"#7fbc41\"],[0.9,\"#4d9221\"],[1,\"#276419\"]]},\"xaxis\":{\"gridcolor\":\"white\",\"linecolor\":\"white\",\"ticks\":\"\",\"title\":{\"standoff\":15},\"zerolinecolor\":\"white\",\"automargin\":true,\"zerolinewidth\":2},\"yaxis\":{\"gridcolor\":\"white\",\"linecolor\":\"white\",\"ticks\":\"\",\"title\":{\"standoff\":15},\"zerolinecolor\":\"white\",\"automargin\":true,\"zerolinewidth\":2},\"scene\":{\"xaxis\":{\"backgroundcolor\":\"#E5ECF6\",\"gridcolor\":\"white\",\"linecolor\":\"white\",\"showbackground\":true,\"ticks\":\"\",\"zerolinecolor\":\"white\",\"gridwidth\":2},\"yaxis\":{\"backgroundcolor\":\"#E5ECF6\",\"gridcolor\":\"white\",\"linecolor\":\"white\",\"showbackground\":true,\"ticks\":\"\",\"zerolinecolor\":\"white\",\"gridwidth\":2},\"zaxis\":{\"backgroundcolor\":\"#E5ECF6\",\"gridcolor\":\"white\",\"linecolor\":\"white\",\"showbackground\":true,\"ticks\":\"\",\"zerolinecolor\":\"white\",\"gridwidth\":2}},\"shapedefaults\":{\"line\":{\"color\":\"#2a3f5f\"}},\"annotationdefaults\":{\"arrowcolor\":\"#2a3f5f\",\"arrowhead\":0,\"arrowwidth\":1},\"geo\":{\"bgcolor\":\"white\",\"landcolor\":\"#E5ECF6\",\"subunitcolor\":\"white\",\"showland\":true,\"showlakes\":true,\"lakecolor\":\"white\"},\"title\":{\"x\":0.05},\"mapbox\":{\"style\":\"light\"}}},\"xaxis\":{\"anchor\":\"y\",\"domain\":[0.0,1.0],\"title\":{\"text\":\"Date\"}},\"yaxis\":{\"anchor\":\"x\",\"domain\":[0.0,1.0],\"title\":{\"text\":\"Market Index\"}},\"legend\":{\"tracegroupgap\":0},\"title\":{\"text\":\"Market Index Over Time\"}},                        {\"responsive\": true}                    ).then(function(){\n",
              "                            \n",
              "var gd = document.getElementById('a82aedbc-2b4c-4d24-9b57-f9d9daedf9d3');\n",
              "var x = new MutationObserver(function (mutations, observer) {{\n",
              "        var display = window.getComputedStyle(gd).display;\n",
              "        if (!display || display === 'none') {{\n",
              "            console.log([gd, 'removed!']);\n",
              "            Plotly.purge(gd);\n",
              "            observer.disconnect();\n",
              "        }}\n",
              "}});\n",
              "\n",
              "// Listen for the removal of the full notebook cells\n",
              "var notebookContainer = gd.closest('#notebook-container');\n",
              "if (notebookContainer) {{\n",
              "    x.observe(notebookContainer, {childList: true});\n",
              "}}\n",
              "\n",
              "// Listen for the clearing of the current output cell\n",
              "var outputEl = gd.closest('.output');\n",
              "if (outputEl) {{\n",
              "    x.observe(outputEl, {childList: true});\n",
              "}}\n",
              "\n",
              "                        })                };                            </script>        </div>\n",
              "</body>\n",
              "</html>"
            ]
          },
          "metadata": {}
        }
      ]
    },
    {
      "cell_type": "markdown",
      "source": [
        "**Show index composition for any given date**"
      ],
      "metadata": {
        "id": "9_AZuZRgUOei"
      }
    },
    {
      "cell_type": "code",
      "source": [
        "#Show index composition for any given date\n",
        "import plotly.graph_objects as go\n",
        "date_ip = input(\"Enter Date: \")\n",
        "fig = go.Figure(data=[go.Table(\n",
        "    header=dict(values=['Ticker'], fill_color=\"lightgrey\", align=\"left\"),\n",
        "    cells=dict(values=[daily_index_100_underlying_data['Ticker'][daily_index_100_underlying_data['Date'] == date_ip]],\n",
        "               align=\"left\")\n",
        ")])\n",
        "\n",
        "\n",
        "fig.update_layout(title_text=f\"Table Showing Index Composition for : {date_ip}\")\n",
        "fig.show()"
      ],
      "metadata": {
        "colab": {
          "base_uri": "https://localhost:8080/",
          "height": 559
        },
        "id": "XrkZTEmHQthz",
        "outputId": "a04b15fe-06bd-4a5c-b500-69096310a0f2"
      },
      "execution_count": 105,
      "outputs": [
        {
          "name": "stdout",
          "output_type": "stream",
          "text": [
            "Enter Date: 2025-02-17\n"
          ]
        },
        {
          "output_type": "display_data",
          "data": {
            "text/html": [
              "<html>\n",
              "<head><meta charset=\"utf-8\" /></head>\n",
              "<body>\n",
              "    <div>            <script src=\"https://cdnjs.cloudflare.com/ajax/libs/mathjax/2.7.5/MathJax.js?config=TeX-AMS-MML_SVG\"></script><script type=\"text/javascript\">if (window.MathJax && window.MathJax.Hub && window.MathJax.Hub.Config) {window.MathJax.Hub.Config({SVG: {font: \"STIX-Web\"}});}</script>                <script type=\"text/javascript\">window.PlotlyConfig = {MathJaxConfig: 'local'};</script>\n",
              "        <script charset=\"utf-8\" src=\"https://cdn.plot.ly/plotly-2.35.2.min.js\"></script>                <div id=\"c2fc2864-4f1b-4fc1-9d19-e5dbb1bc5e98\" class=\"plotly-graph-div\" style=\"height:525px; width:100%;\"></div>            <script type=\"text/javascript\">                                    window.PLOTLYENV=window.PLOTLYENV || {};                                    if (document.getElementById(\"c2fc2864-4f1b-4fc1-9d19-e5dbb1bc5e98\")) {                    Plotly.newPlot(                        \"c2fc2864-4f1b-4fc1-9d19-e5dbb1bc5e98\",                        [{\"cells\":{\"align\":\"left\",\"values\":[[\"TICKER4\",\"TICKER10\",\"TICKER13\",\"TICKER16\",\"TICKER18\",\"TICKER19\",\"TICKER24\",\"TICKER33\",\"TICKER37\",\"TICKER45\",\"TICKER46\",\"TICKER53\",\"TICKER58\",\"TICKER61\",\"TICKER63\",\"TICKER66\",\"TICKER67\",\"TICKER69\",\"TICKER79\",\"TICKER96\",\"TICKER100\",\"TICKER101\",\"TICKER115\",\"TICKER117\",\"TICKER122\",\"TICKER132\",\"TICKER143\",\"TICKER148\",\"TICKER153\",\"TICKER156\",\"TICKER164\",\"TICKER167\",\"TICKER173\",\"TICKER176\",\"TICKER178\",\"TICKER179\",\"TICKER187\",\"TICKER191\",\"TICKER194\",\"TICKER198\",\"TICKER208\",\"TICKER221\",\"TICKER226\",\"TICKER231\",\"TICKER232\",\"TICKER238\",\"TICKER240\",\"TICKER241\",\"TICKER248\",\"TICKER250\",\"TICKER253\",\"TICKER263\",\"TICKER269\",\"TICKER270\",\"TICKER272\",\"TICKER273\",\"TICKER282\",\"TICKER285\",\"TICKER287\",\"TICKER294\",\"TICKER296\",\"TICKER312\",\"TICKER321\",\"TICKER322\",\"TICKER330\",\"TICKER332\",\"TICKER356\",\"TICKER358\",\"TICKER361\",\"TICKER362\",\"TICKER363\",\"TICKER364\",\"TICKER369\",\"TICKER370\",\"TICKER372\",\"TICKER377\",\"TICKER379\",\"TICKER380\",\"TICKER385\",\"TICKER388\",\"TICKER403\",\"TICKER409\",\"TICKER414\",\"TICKER418\",\"TICKER432\",\"TICKER443\",\"TICKER452\",\"TICKER453\",\"TICKER455\",\"TICKER457\",\"TICKER464\",\"TICKER466\",\"TICKER480\",\"TICKER481\",\"TICKER484\",\"TICKER485\",\"TICKER486\",\"TICKER492\",\"TICKER493\",\"TICKER495\"]]},\"header\":{\"align\":\"left\",\"fill\":{\"color\":\"lightgrey\"},\"values\":[\"Ticker\"]},\"type\":\"table\"}],                        {\"template\":{\"data\":{\"histogram2dcontour\":[{\"type\":\"histogram2dcontour\",\"colorbar\":{\"outlinewidth\":0,\"ticks\":\"\"},\"colorscale\":[[0.0,\"#0d0887\"],[0.1111111111111111,\"#46039f\"],[0.2222222222222222,\"#7201a8\"],[0.3333333333333333,\"#9c179e\"],[0.4444444444444444,\"#bd3786\"],[0.5555555555555556,\"#d8576b\"],[0.6666666666666666,\"#ed7953\"],[0.7777777777777778,\"#fb9f3a\"],[0.8888888888888888,\"#fdca26\"],[1.0,\"#f0f921\"]]}],\"choropleth\":[{\"type\":\"choropleth\",\"colorbar\":{\"outlinewidth\":0,\"ticks\":\"\"}}],\"histogram2d\":[{\"type\":\"histogram2d\",\"colorbar\":{\"outlinewidth\":0,\"ticks\":\"\"},\"colorscale\":[[0.0,\"#0d0887\"],[0.1111111111111111,\"#46039f\"],[0.2222222222222222,\"#7201a8\"],[0.3333333333333333,\"#9c179e\"],[0.4444444444444444,\"#bd3786\"],[0.5555555555555556,\"#d8576b\"],[0.6666666666666666,\"#ed7953\"],[0.7777777777777778,\"#fb9f3a\"],[0.8888888888888888,\"#fdca26\"],[1.0,\"#f0f921\"]]}],\"heatmap\":[{\"type\":\"heatmap\",\"colorbar\":{\"outlinewidth\":0,\"ticks\":\"\"},\"colorscale\":[[0.0,\"#0d0887\"],[0.1111111111111111,\"#46039f\"],[0.2222222222222222,\"#7201a8\"],[0.3333333333333333,\"#9c179e\"],[0.4444444444444444,\"#bd3786\"],[0.5555555555555556,\"#d8576b\"],[0.6666666666666666,\"#ed7953\"],[0.7777777777777778,\"#fb9f3a\"],[0.8888888888888888,\"#fdca26\"],[1.0,\"#f0f921\"]]}],\"heatmapgl\":[{\"type\":\"heatmapgl\",\"colorbar\":{\"outlinewidth\":0,\"ticks\":\"\"},\"colorscale\":[[0.0,\"#0d0887\"],[0.1111111111111111,\"#46039f\"],[0.2222222222222222,\"#7201a8\"],[0.3333333333333333,\"#9c179e\"],[0.4444444444444444,\"#bd3786\"],[0.5555555555555556,\"#d8576b\"],[0.6666666666666666,\"#ed7953\"],[0.7777777777777778,\"#fb9f3a\"],[0.8888888888888888,\"#fdca26\"],[1.0,\"#f0f921\"]]}],\"contourcarpet\":[{\"type\":\"contourcarpet\",\"colorbar\":{\"outlinewidth\":0,\"ticks\":\"\"}}],\"contour\":[{\"type\":\"contour\",\"colorbar\":{\"outlinewidth\":0,\"ticks\":\"\"},\"colorscale\":[[0.0,\"#0d0887\"],[0.1111111111111111,\"#46039f\"],[0.2222222222222222,\"#7201a8\"],[0.3333333333333333,\"#9c179e\"],[0.4444444444444444,\"#bd3786\"],[0.5555555555555556,\"#d8576b\"],[0.6666666666666666,\"#ed7953\"],[0.7777777777777778,\"#fb9f3a\"],[0.8888888888888888,\"#fdca26\"],[1.0,\"#f0f921\"]]}],\"surface\":[{\"type\":\"surface\",\"colorbar\":{\"outlinewidth\":0,\"ticks\":\"\"},\"colorscale\":[[0.0,\"#0d0887\"],[0.1111111111111111,\"#46039f\"],[0.2222222222222222,\"#7201a8\"],[0.3333333333333333,\"#9c179e\"],[0.4444444444444444,\"#bd3786\"],[0.5555555555555556,\"#d8576b\"],[0.6666666666666666,\"#ed7953\"],[0.7777777777777778,\"#fb9f3a\"],[0.8888888888888888,\"#fdca26\"],[1.0,\"#f0f921\"]]}],\"mesh3d\":[{\"type\":\"mesh3d\",\"colorbar\":{\"outlinewidth\":0,\"ticks\":\"\"}}],\"scatter\":[{\"fillpattern\":{\"fillmode\":\"overlay\",\"size\":10,\"solidity\":0.2},\"type\":\"scatter\"}],\"parcoords\":[{\"type\":\"parcoords\",\"line\":{\"colorbar\":{\"outlinewidth\":0,\"ticks\":\"\"}}}],\"scatterpolargl\":[{\"type\":\"scatterpolargl\",\"marker\":{\"colorbar\":{\"outlinewidth\":0,\"ticks\":\"\"}}}],\"bar\":[{\"error_x\":{\"color\":\"#2a3f5f\"},\"error_y\":{\"color\":\"#2a3f5f\"},\"marker\":{\"line\":{\"color\":\"#E5ECF6\",\"width\":0.5},\"pattern\":{\"fillmode\":\"overlay\",\"size\":10,\"solidity\":0.2}},\"type\":\"bar\"}],\"scattergeo\":[{\"type\":\"scattergeo\",\"marker\":{\"colorbar\":{\"outlinewidth\":0,\"ticks\":\"\"}}}],\"scatterpolar\":[{\"type\":\"scatterpolar\",\"marker\":{\"colorbar\":{\"outlinewidth\":0,\"ticks\":\"\"}}}],\"histogram\":[{\"marker\":{\"pattern\":{\"fillmode\":\"overlay\",\"size\":10,\"solidity\":0.2}},\"type\":\"histogram\"}],\"scattergl\":[{\"type\":\"scattergl\",\"marker\":{\"colorbar\":{\"outlinewidth\":0,\"ticks\":\"\"}}}],\"scatter3d\":[{\"type\":\"scatter3d\",\"line\":{\"colorbar\":{\"outlinewidth\":0,\"ticks\":\"\"}},\"marker\":{\"colorbar\":{\"outlinewidth\":0,\"ticks\":\"\"}}}],\"scattermapbox\":[{\"type\":\"scattermapbox\",\"marker\":{\"colorbar\":{\"outlinewidth\":0,\"ticks\":\"\"}}}],\"scatterternary\":[{\"type\":\"scatterternary\",\"marker\":{\"colorbar\":{\"outlinewidth\":0,\"ticks\":\"\"}}}],\"scattercarpet\":[{\"type\":\"scattercarpet\",\"marker\":{\"colorbar\":{\"outlinewidth\":0,\"ticks\":\"\"}}}],\"carpet\":[{\"aaxis\":{\"endlinecolor\":\"#2a3f5f\",\"gridcolor\":\"white\",\"linecolor\":\"white\",\"minorgridcolor\":\"white\",\"startlinecolor\":\"#2a3f5f\"},\"baxis\":{\"endlinecolor\":\"#2a3f5f\",\"gridcolor\":\"white\",\"linecolor\":\"white\",\"minorgridcolor\":\"white\",\"startlinecolor\":\"#2a3f5f\"},\"type\":\"carpet\"}],\"table\":[{\"cells\":{\"fill\":{\"color\":\"#EBF0F8\"},\"line\":{\"color\":\"white\"}},\"header\":{\"fill\":{\"color\":\"#C8D4E3\"},\"line\":{\"color\":\"white\"}},\"type\":\"table\"}],\"barpolar\":[{\"marker\":{\"line\":{\"color\":\"#E5ECF6\",\"width\":0.5},\"pattern\":{\"fillmode\":\"overlay\",\"size\":10,\"solidity\":0.2}},\"type\":\"barpolar\"}],\"pie\":[{\"automargin\":true,\"type\":\"pie\"}]},\"layout\":{\"autotypenumbers\":\"strict\",\"colorway\":[\"#636efa\",\"#EF553B\",\"#00cc96\",\"#ab63fa\",\"#FFA15A\",\"#19d3f3\",\"#FF6692\",\"#B6E880\",\"#FF97FF\",\"#FECB52\"],\"font\":{\"color\":\"#2a3f5f\"},\"hovermode\":\"closest\",\"hoverlabel\":{\"align\":\"left\"},\"paper_bgcolor\":\"white\",\"plot_bgcolor\":\"#E5ECF6\",\"polar\":{\"bgcolor\":\"#E5ECF6\",\"angularaxis\":{\"gridcolor\":\"white\",\"linecolor\":\"white\",\"ticks\":\"\"},\"radialaxis\":{\"gridcolor\":\"white\",\"linecolor\":\"white\",\"ticks\":\"\"}},\"ternary\":{\"bgcolor\":\"#E5ECF6\",\"aaxis\":{\"gridcolor\":\"white\",\"linecolor\":\"white\",\"ticks\":\"\"},\"baxis\":{\"gridcolor\":\"white\",\"linecolor\":\"white\",\"ticks\":\"\"},\"caxis\":{\"gridcolor\":\"white\",\"linecolor\":\"white\",\"ticks\":\"\"}},\"coloraxis\":{\"colorbar\":{\"outlinewidth\":0,\"ticks\":\"\"}},\"colorscale\":{\"sequential\":[[0.0,\"#0d0887\"],[0.1111111111111111,\"#46039f\"],[0.2222222222222222,\"#7201a8\"],[0.3333333333333333,\"#9c179e\"],[0.4444444444444444,\"#bd3786\"],[0.5555555555555556,\"#d8576b\"],[0.6666666666666666,\"#ed7953\"],[0.7777777777777778,\"#fb9f3a\"],[0.8888888888888888,\"#fdca26\"],[1.0,\"#f0f921\"]],\"sequentialminus\":[[0.0,\"#0d0887\"],[0.1111111111111111,\"#46039f\"],[0.2222222222222222,\"#7201a8\"],[0.3333333333333333,\"#9c179e\"],[0.4444444444444444,\"#bd3786\"],[0.5555555555555556,\"#d8576b\"],[0.6666666666666666,\"#ed7953\"],[0.7777777777777778,\"#fb9f3a\"],[0.8888888888888888,\"#fdca26\"],[1.0,\"#f0f921\"]],\"diverging\":[[0,\"#8e0152\"],[0.1,\"#c51b7d\"],[0.2,\"#de77ae\"],[0.3,\"#f1b6da\"],[0.4,\"#fde0ef\"],[0.5,\"#f7f7f7\"],[0.6,\"#e6f5d0\"],[0.7,\"#b8e186\"],[0.8,\"#7fbc41\"],[0.9,\"#4d9221\"],[1,\"#276419\"]]},\"xaxis\":{\"gridcolor\":\"white\",\"linecolor\":\"white\",\"ticks\":\"\",\"title\":{\"standoff\":15},\"zerolinecolor\":\"white\",\"automargin\":true,\"zerolinewidth\":2},\"yaxis\":{\"gridcolor\":\"white\",\"linecolor\":\"white\",\"ticks\":\"\",\"title\":{\"standoff\":15},\"zerolinecolor\":\"white\",\"automargin\":true,\"zerolinewidth\":2},\"scene\":{\"xaxis\":{\"backgroundcolor\":\"#E5ECF6\",\"gridcolor\":\"white\",\"linecolor\":\"white\",\"showbackground\":true,\"ticks\":\"\",\"zerolinecolor\":\"white\",\"gridwidth\":2},\"yaxis\":{\"backgroundcolor\":\"#E5ECF6\",\"gridcolor\":\"white\",\"linecolor\":\"white\",\"showbackground\":true,\"ticks\":\"\",\"zerolinecolor\":\"white\",\"gridwidth\":2},\"zaxis\":{\"backgroundcolor\":\"#E5ECF6\",\"gridcolor\":\"white\",\"linecolor\":\"white\",\"showbackground\":true,\"ticks\":\"\",\"zerolinecolor\":\"white\",\"gridwidth\":2}},\"shapedefaults\":{\"line\":{\"color\":\"#2a3f5f\"}},\"annotationdefaults\":{\"arrowcolor\":\"#2a3f5f\",\"arrowhead\":0,\"arrowwidth\":1},\"geo\":{\"bgcolor\":\"white\",\"landcolor\":\"#E5ECF6\",\"subunitcolor\":\"white\",\"showland\":true,\"showlakes\":true,\"lakecolor\":\"white\"},\"title\":{\"x\":0.05},\"mapbox\":{\"style\":\"light\"}}},\"title\":{\"text\":\"Table Showing Index Composition for : 2025-02-17\"}},                        {\"responsive\": true}                    ).then(function(){\n",
              "                            \n",
              "var gd = document.getElementById('c2fc2864-4f1b-4fc1-9d19-e5dbb1bc5e98');\n",
              "var x = new MutationObserver(function (mutations, observer) {{\n",
              "        var display = window.getComputedStyle(gd).display;\n",
              "        if (!display || display === 'none') {{\n",
              "            console.log([gd, 'removed!']);\n",
              "            Plotly.purge(gd);\n",
              "            observer.disconnect();\n",
              "        }}\n",
              "}});\n",
              "\n",
              "// Listen for the removal of the full notebook cells\n",
              "var notebookContainer = gd.closest('#notebook-container');\n",
              "if (notebookContainer) {{\n",
              "    x.observe(notebookContainer, {childList: true});\n",
              "}}\n",
              "\n",
              "// Listen for the clearing of the current output cell\n",
              "var outputEl = gd.closest('.output');\n",
              "if (outputEl) {{\n",
              "    x.observe(outputEl, {childList: true});\n",
              "}}\n",
              "\n",
              "                        })                };                            </script>        </div>\n",
              "</body>\n",
              "</html>"
            ]
          },
          "metadata": {}
        }
      ]
    }
  ]
}